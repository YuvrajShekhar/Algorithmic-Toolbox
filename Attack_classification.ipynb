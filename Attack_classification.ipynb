{
  "nbformat": 4,
  "nbformat_minor": 0,
  "metadata": {
    "colab": {
      "name": "Untitled0.ipynb",
      "provenance": [],
      "authorship_tag": "ABX9TyOvQ7zH0FRhZAtIq9TdOrcD",
      "include_colab_link": true
    },
    "kernelspec": {
      "name": "python3",
      "display_name": "Python 3"
    },
    "language_info": {
      "name": "python"
    }
  },
  "cells": [
    {
      "cell_type": "markdown",
      "metadata": {
        "id": "view-in-github",
        "colab_type": "text"
      },
      "source": [
        "<a href=\"https://colab.research.google.com/github/YuvrajShekhar/Algorithmic-Toolbox/blob/master/Attack_classification.ipynb\" target=\"_parent\"><img src=\"https://colab.research.google.com/assets/colab-badge.svg\" alt=\"Open In Colab\"/></a>"
      ]
    },
    {
      "cell_type": "code",
      "metadata": {
        "id": "f6wvFHUeiFhd"
      },
      "source": [
        "import pandas as pd\n",
        "import numpy as np\n",
        "\n",
        "from pickle import dump\n",
        "\n",
        "import seaborn as sns"
      ],
      "execution_count": null,
      "outputs": []
    },
    {
      "cell_type": "code",
      "metadata": {
        "id": "X8IcVgY4iK17"
      },
      "source": [
        "rec = pd.read_csv('./recon.csv')"
      ],
      "execution_count": null,
      "outputs": []
    },
    {
      "cell_type": "code",
      "metadata": {
        "id": "3kKqM6BmimQK",
        "colab": {
          "base_uri": "https://localhost:8080/"
        },
        "outputId": "6978895d-97e4-460f-85a7-f00426341790"
      },
      "source": [
        "rec.head()\n"
      ],
      "execution_count": null,
      "outputs": [
        {
          "output_type": "execute_result",
          "data": {
            "text/html": [
              "<div>\n",
              "<style scoped>\n",
              "    .dataframe tbody tr th:only-of-type {\n",
              "        vertical-align: middle;\n",
              "    }\n",
              "\n",
              "    .dataframe tbody tr th {\n",
              "        vertical-align: top;\n",
              "    }\n",
              "\n",
              "    .dataframe thead th {\n",
              "        text-align: right;\n",
              "    }\n",
              "</style>\n",
              "<table border=\"1\" class=\"dataframe\">\n",
              "  <thead>\n",
              "    <tr style=\"text-align: right;\">\n",
              "      <th></th>\n",
              "      <th>headerLen</th>\n",
              "      <th>IPSize</th>\n",
              "      <th>ip.tot_len</th>\n",
              "      <th>srcIP</th>\n",
              "      <th>dstIP</th>\n",
              "      <th>IPTOS</th>\n",
              "      <th>IPTTL</th>\n",
              "      <th>IPID</th>\n",
              "      <th>TCPSrcPort</th>\n",
              "      <th>TCPDstPort</th>\n",
              "      <th>TCPFlags</th>\n",
              "      <th>Detection</th>\n",
              "    </tr>\n",
              "  </thead>\n",
              "  <tbody>\n",
              "    <tr>\n",
              "      <th>0</th>\n",
              "      <td>68</td>\n",
              "      <td>52</td>\n",
              "      <td>52</td>\n",
              "      <td>202.122.17.2</td>\n",
              "      <td>74.125.34.46</td>\n",
              "      <td>0</td>\n",
              "      <td>63</td>\n",
              "      <td>13198</td>\n",
              "      <td>42212.0</td>\n",
              "      <td>443.0</td>\n",
              "      <td>17.0</td>\n",
              "      <td>2</td>\n",
              "    </tr>\n",
              "    <tr>\n",
              "      <th>1</th>\n",
              "      <td>68</td>\n",
              "      <td>52</td>\n",
              "      <td>52</td>\n",
              "      <td>202.122.17.2</td>\n",
              "      <td>74.125.34.46</td>\n",
              "      <td>0</td>\n",
              "      <td>63</td>\n",
              "      <td>20556</td>\n",
              "      <td>42246.0</td>\n",
              "      <td>443.0</td>\n",
              "      <td>16.0</td>\n",
              "      <td>2</td>\n",
              "    </tr>\n",
              "    <tr>\n",
              "      <th>2</th>\n",
              "      <td>68</td>\n",
              "      <td>52</td>\n",
              "      <td>52</td>\n",
              "      <td>74.125.34.46</td>\n",
              "      <td>202.122.17.2</td>\n",
              "      <td>0</td>\n",
              "      <td>61</td>\n",
              "      <td>1508</td>\n",
              "      <td>443.0</td>\n",
              "      <td>42250.0</td>\n",
              "      <td>17.0</td>\n",
              "      <td>2</td>\n",
              "    </tr>\n",
              "    <tr>\n",
              "      <th>3</th>\n",
              "      <td>128</td>\n",
              "      <td>569</td>\n",
              "      <td>569</td>\n",
              "      <td>202.122.17.2</td>\n",
              "      <td>74.125.34.46</td>\n",
              "      <td>0</td>\n",
              "      <td>63</td>\n",
              "      <td>21367</td>\n",
              "      <td>42256.0</td>\n",
              "      <td>443.0</td>\n",
              "      <td>24.0</td>\n",
              "      <td>2</td>\n",
              "    </tr>\n",
              "    <tr>\n",
              "      <th>4</th>\n",
              "      <td>128</td>\n",
              "      <td>1470</td>\n",
              "      <td>1470</td>\n",
              "      <td>74.125.34.46</td>\n",
              "      <td>202.122.17.2</td>\n",
              "      <td>0</td>\n",
              "      <td>46</td>\n",
              "      <td>12198</td>\n",
              "      <td>443.0</td>\n",
              "      <td>42266.0</td>\n",
              "      <td>16.0</td>\n",
              "      <td>2</td>\n",
              "    </tr>\n",
              "  </tbody>\n",
              "</table>\n",
              "</div>"
            ],
            "text/plain": [
              "   headerLen  IPSize  ip.tot_len  ... TCPDstPort TCPFlags  Detection\n",
              "0         68      52          52  ...      443.0     17.0          2\n",
              "1         68      52          52  ...      443.0     16.0          2\n",
              "2         68      52          52  ...    42250.0     17.0          2\n",
              "3        128     569         569  ...      443.0     24.0          2\n",
              "4        128    1470        1470  ...    42266.0     16.0          2\n",
              "\n",
              "[5 rows x 12 columns]"
            ]
          },
          "metadata": {
            "tags": []
          },
          "execution_count": 3
        }
      ]
    },
    {
      "cell_type": "code",
      "metadata": {
        "id": "6QxmTiStiqlf"
      },
      "source": [
        ""
      ],
      "execution_count": null,
      "outputs": []
    }
  ]
}